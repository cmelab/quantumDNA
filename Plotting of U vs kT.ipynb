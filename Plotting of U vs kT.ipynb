{
 "cells": [
  {
   "cell_type": "code",
   "execution_count": 1,
   "id": "c77c9c31-1b06-4705-b7d0-1dc4764e0137",
   "metadata": {},
   "outputs": [],
   "source": [
    "import hoomd\n",
    "import matplotlib.pyplot as plt\n",
    "import numpy as np\n"
   ]
  },
  {
   "cell_type": "code",
   "execution_count": 2,
   "id": "2e381075-a854-4e8f-b6b9-26bb0220c5f7",
   "metadata": {},
   "outputs": [
    {
     "ename": "NameError",
     "evalue": "name 'gsd' is not defined",
     "output_type": "error",
     "traceback": [
      "\u001b[0;31m---------------------------------------------------------------------------\u001b[0m",
      "\u001b[0;31mNameError\u001b[0m                                 Traceback (most recent call last)",
      "Cell \u001b[0;32mIn[2], line 1\u001b[0m\n\u001b[0;32m----> 1\u001b[0m traj \u001b[38;5;241m=\u001b[39m \u001b[43mgsd\u001b[49m\u001b[38;5;241m.\u001b[39mhoomd\u001b[38;5;241m.\u001b[39mopen(\u001b[38;5;124m\"\u001b[39m\u001b[38;5;124mtrajectory.gsd\u001b[39m\u001b[38;5;124m\"\u001b[39m)\n\u001b[1;32m      2\u001b[0m \u001b[38;5;28mprint\u001b[39m(\u001b[38;5;28mlen\u001b[39m(traj))\n",
      "\u001b[0;31mNameError\u001b[0m: name 'gsd' is not defined"
     ]
    }
   ],
   "source": [
    "traj = gsd.hoomd.open(\"trajectory.gsd\")\n",
    "print(len(traj))"
   ]
  },
  {
   "cell_type": "code",
   "execution_count": null,
   "id": "8d241cd3-711b-4d12-ac97-b43ed03f296a",
   "metadata": {},
   "outputs": [],
   "source": []
  },
  {
   "cell_type": "code",
   "execution_count": null,
   "id": "cb9ed8a9-3e1c-4ee9-89b4-00e289f98d7e",
   "metadata": {},
   "outputs": [],
   "source": [
    "hma = hoomd.compute.HarmonicAveragedThermodynamicQuantities(\n",
    "    filter=hoomd.filter.Type('A'), kT=2.0)"
   ]
  },
  {
   "cell_type": "code",
   "execution_count": null,
   "id": "7ba0e06a-6f6e-4163-9397-0eedcafa2346",
   "metadata": {},
   "outputs": [],
   "source": [
    "fig = plt.figure(figsize=(10, 10), facecolor=\"white\")\n",
    "ax = plt.axes(projection=\"3d\")\n",
    "ax.set_xlabel(xlabel, fontdict=dict(weight=\"bold\"), fontsize=12)\n",
    "ax.set_ylabel(ylabel, fontdict=dict(weight=\"bold\"), fontsize=12)\n",
    "p = ax.scatter(x, y, z, c=z, cmap=\"rainbow\", linewidth=7)\n",
    "plt.colorbar(p, pad=0.1, aspect=2.3)\n",
    "\n",
    "return fig"
   ]
  }
 ],
 "metadata": {
  "kernelspec": {
   "display_name": "Python 3 (ipykernel)",
   "language": "python",
   "name": "python3"
  },
  "language_info": {
   "codemirror_mode": {
    "name": "ipython",
    "version": 3
   },
   "file_extension": ".py",
   "mimetype": "text/x-python",
   "name": "python",
   "nbconvert_exporter": "python",
   "pygments_lexer": "ipython3",
   "version": "3.11.0"
  }
 },
 "nbformat": 4,
 "nbformat_minor": 5
}
