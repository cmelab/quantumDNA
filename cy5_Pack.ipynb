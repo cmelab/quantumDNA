{
 "cells": [
  {
   "cell_type": "code",
   "execution_count": 24,
   "id": "88e5033d-e160-4274-8141-b46cbc7b9af1",
   "metadata": {},
   "outputs": [],
   "source": [
    "import hoomd\n",
    "import flowermd\n",
    "import numpy as np\n",
    "import matplotlib as plt\n",
    "import mbuild as mb\n",
    "import warnings\n",
    "warnings.filterwarnings('ignore')\n",
    "from flowermd.base import Molecule\n",
    "from flowermd.library import FF_from_file\n",
    "\n",
    "from flowermd.base import Pack"
   ]
  },
  {
   "cell_type": "code",
   "execution_count": 25,
   "id": "33d42c33-c6f4-4167-8356-7045da2e3913",
   "metadata": {},
   "outputs": [],
   "source": [
    "def espaloma_mol(file_path):\n",
    "    mol = mb.load(file_path)\n",
    "    for p in mol.particles():\n",
    "        p.name = f\"_{p.name}\"\n",
    "    return mol"
   ]
  },
  {
   "cell_type": "code",
   "execution_count": 26,
   "id": "bab8eca0-e6a6-4d6f-8ec4-0c97ecbc25c9",
   "metadata": {},
   "outputs": [],
   "source": [
    "system_file = 'cy5.mol2'\n",
    "ff_filepath =  \"cy5.xml\""
   ]
  },
  {
   "cell_type": "code",
   "execution_count": 27,
   "id": "65e94171-0b3e-4582-a96a-33a5d02900a1",
   "metadata": {},
   "outputs": [],
   "source": [
    "esp_mol = espaloma_mol(system_file)\n",
    "cy5 = Molecule(num_mols = 2, compound = esp_mol)"
   ]
  },
  {
   "cell_type": "code",
   "execution_count": 28,
   "id": "9f4106d4-d3d1-4772-9e7b-1a8df523f539",
   "metadata": {},
   "outputs": [
    {
     "data": {
      "application/3dmoljs_load.v0": "<div id=\"3dmolviewer_17258910705798273\"  style=\"position: relative; width: 640px; height: 480px;\">\n        <p id=\"3dmolwarning_17258910705798273\" style=\"background-color:#ffcccc;color:black\">3Dmol.js failed to load for some reason.  Please check your browser console for error messages.<br></p>\n        </div>\n<script>\n\nvar loadScriptAsync = function(uri){\n  return new Promise((resolve, reject) => {\n    //this is to ignore the existence of requirejs amd\n    var savedexports, savedmodule;\n    if (typeof exports !== 'undefined') savedexports = exports;\n    else exports = {}\n    if (typeof module !== 'undefined') savedmodule = module;\n    else module = {}\n\n    var tag = document.createElement('script');\n    tag.src = uri;\n    tag.async = true;\n    tag.onload = () => {\n        exports = savedexports;\n        module = savedmodule;\n        resolve();\n    };\n  var firstScriptTag = document.getElementsByTagName('script')[0];\n  firstScriptTag.parentNode.insertBefore(tag, firstScriptTag);\n});\n};\n\nif(typeof $3Dmolpromise === 'undefined') {\n$3Dmolpromise = null;\n  $3Dmolpromise = loadScriptAsync('https://cdnjs.cloudflare.com/ajax/libs/3Dmol/2.1.0/3Dmol-min.js');\n}\n\nvar viewer_17258910705798273 = null;\nvar warn = document.getElementById(\"3dmolwarning_17258910705798273\");\nif(warn) {\n    warn.parentNode.removeChild(warn);\n}\n$3Dmolpromise.then(function() {\nviewer_17258910705798273 = $3Dmol.createViewer(document.getElementById(\"3dmolviewer_17258910705798273\"),{backgroundColor:\"white\"});\nviewer_17258910705798273.zoomTo();\n\tviewer_17258910705798273.addModel(\"@<TRIPOS>MOLECULE\\nRES\\n53 56 1 0 1\\nSMALL\\nNO_CHARGES\\n@<TRIPOS>CRYSIN\\n   22.4813    11.5420     9.8884    90.0000    90.0000    90.0000 1 1\\n@<TRIPOS>ATOM\\n       1 _C0         -3.0156    -0.6734     0.1645 _C0           1 RES     \\n       2 _C0         -1.7400    -1.0735     0.2896 _C0           1 RES     \\n       3 _C0         -1.2626    -2.4016    -0.1545 _C0           1 RES     \\n       4 _C0          0.0277    -2.7144    -0.3390 _C0           1 RES     \\n       5 _C0          1.1443    -1.7506    -0.2389 _C0           1 RES     \\n       6 _C0          2.4110    -2.1703    -0.3095 _C0           1 RES     \\n       7 _C0          3.6022    -1.2916    -0.2311 _C0           1 RES     \\n       8 _N1          4.7851    -1.8251    -0.3089 _N1           1 RES     \\n       9 _C0          5.7320    -0.7822    -0.2027 _C0           1 RES     \\n      10 _C0          5.1260     0.4341    -0.0538 _C0           1 RES     \\n      11 _C2          3.6403     0.2339    -0.0571 _C2           1 RES     \\n      12 _C2          3.0222     0.9806    -1.2528 _C2           1 RES     \\n      13 _C2          3.0545     0.6895     1.2914 _C2           1 RES     \\n      14 _C0          5.8788     1.6065     0.0710 _C0           1 RES     \\n      15 _C0          7.2802     1.5057     0.0400 _C0           1 RES     \\n      16 _C0          7.8990     0.2484    -0.1135 _C0           1 RES     \\n      17 _C0          7.1192    -0.9139    -0.2369 _C0           1 RES     \\n      18 _C2         -3.5422     0.6681     0.6521 _C2           1 RES     \\n      19 _C0         -4.9823     0.5567     0.2269 _C0           1 RES     \\n      20 _C0         -5.2102    -0.6487    -0.4008 _C0           1 RES     \\n      21 _C0         -6.4674    -0.9893    -0.8991 _C0           1 RES     \\n      22 _C0         -7.5168    -0.0694    -0.7447 _C0           1 RES     \\n      23 _C0         -7.2919     1.1639    -0.1027 _C0           1 RES     \\n      24 _C0         -6.0158     1.4855     0.3885 _C0           1 RES     \\n      25 _N1         -4.0429    -1.4435    -0.4683 _N1           1 RES     \\n      26 _C2         -3.4326     0.7933     2.1800 _C2           1 RES     \\n      27 _C2         -2.8515     1.8392    -0.0657 _C2           1 RES     \\n      28 _H3         -1.0463    -0.3995     0.7717 _H3           1 RES     \\n      29 _H3         -1.9850    -3.1924    -0.3054 _H3           1 RES     \\n      30 _H3          0.2590    -3.7390    -0.6083 _H3           1 RES     \\n      31 _H3          0.9261    -0.7063    -0.1349 _H3           1 RES     \\n      32 _H3          2.5990    -3.2318    -0.4277 _H3           1 RES     \\n      33 _H4          3.4427     0.6001    -2.2089 _H4           1 RES     \\n      34 _H4          3.2420     2.0674    -1.1824 _H4           1 RES     \\n      35 _H4          1.9221     0.8686    -1.2874 _H4           1 RES     \\n      36 _H4          1.9554     0.5670     1.3278 _H4           1 RES     \\n      37 _H4          3.4993     0.1057     2.1262 _H4           1 RES     \\n      38 _H4          3.2735     1.7654     1.4617 _H4           1 RES     \\n      39 _H3          5.3972     2.5683     0.1885 _H3           1 RES     \\n      40 _H3          7.8866     2.3971     0.1345 _H3           1 RES     \\n      41 _H3          8.9786     0.1779    -0.1365 _H3           1 RES     \\n      42 _H3          7.5832    -1.8844    -0.3550 _H3           1 RES     \\n      43 _H3         -6.6312    -1.9388    -1.3919 _H3           1 RES     \\n      44 _H3         -8.5027    -0.3090    -1.1214 _H3           1 RES     \\n      45 _H3         -8.1057     1.8680     0.0118 _H3           1 RES     \\n      46 _H3         -5.8389     2.4332     0.8799 _H3           1 RES     \\n      47 _H5         -3.9613    -2.3661    -0.9489 _H5           1 RES     \\n      48 _H4         -3.9143     1.7322     2.5274 _H4           1 RES     \\n      49 _H4         -3.9322    -0.0652     2.6795 _H4           1 RES     \\n      50 _H4         -2.3675     0.8124     2.4944 _H4           1 RES     \\n      51 _H4         -1.7751     1.8834     0.2046 _H4           1 RES     \\n      52 _H4         -2.9335     1.7248    -1.1685 _H4           1 RES     \\n      53 _H4         -3.3218     2.8030     0.2246 _H4           1 RES     \\n@<TRIPOS>BOND\\n       1        1        2 1\\n       2        1       18 1\\n       3        1       25 1\\n       4        2        3 1\\n       5        2       28 1\\n       6        3        4 1\\n       7        3       29 1\\n       8        4        5 1\\n       9        4       30 1\\n      10        5        6 1\\n      11        5       31 1\\n      12        6        7 1\\n      13        6       32 1\\n      14        7        8 1\\n      15        7       11 1\\n      16        8        9 1\\n      17        9       10 1\\n      18        9       17 1\\n      19       10       11 1\\n      20       10       14 1\\n      21       11       12 1\\n      22       11       13 1\\n      23       12       33 1\\n      24       12       34 1\\n      25       12       35 1\\n      26       13       36 1\\n      27       13       37 1\\n      28       13       38 1\\n      29       14       15 1\\n      30       14       39 1\\n      31       15       16 1\\n      32       15       40 1\\n      33       16       17 1\\n      34       16       41 1\\n      35       17       42 1\\n      36       18       19 1\\n      37       18       26 1\\n      38       18       27 1\\n      39       19       20 1\\n      40       19       24 1\\n      41       20       21 1\\n      42       20       25 1\\n      43       21       22 1\\n      44       21       43 1\\n      45       22       23 1\\n      46       22       44 1\\n      47       23       24 1\\n      48       23       45 1\\n      49       24       46 1\\n      50       25       47 1\\n      51       26       48 1\\n      52       26       49 1\\n      53       26       50 1\\n      54       27       51 1\\n      55       27       52 1\\n      56       27       53 1\\n@<TRIPOS>SUBSTRUCTURE\\n       1 RES             1 RESIDUE    0 **** ROOT      0\\n\",\"mol2\");\n\tviewer_17258910705798273.setStyle({\"stick\": {\"radius\": 0.18, \"color\": \"grey\"}, \"sphere\": {\"scale\": 0.3, \"colorscheme\": {}}});\n\tviewer_17258910705798273.zoomTo();\nviewer_17258910705798273.render();\n});\n</script>",
      "text/html": [
       "<div id=\"3dmolviewer_17258910705798273\"  style=\"position: relative; width: 640px; height: 480px;\">\n",
       "        <p id=\"3dmolwarning_17258910705798273\" style=\"background-color:#ffcccc;color:black\">3Dmol.js failed to load for some reason.  Please check your browser console for error messages.<br></p>\n",
       "        </div>\n",
       "<script>\n",
       "\n",
       "var loadScriptAsync = function(uri){\n",
       "  return new Promise((resolve, reject) => {\n",
       "    //this is to ignore the existence of requirejs amd\n",
       "    var savedexports, savedmodule;\n",
       "    if (typeof exports !== 'undefined') savedexports = exports;\n",
       "    else exports = {}\n",
       "    if (typeof module !== 'undefined') savedmodule = module;\n",
       "    else module = {}\n",
       "\n",
       "    var tag = document.createElement('script');\n",
       "    tag.src = uri;\n",
       "    tag.async = true;\n",
       "    tag.onload = () => {\n",
       "        exports = savedexports;\n",
       "        module = savedmodule;\n",
       "        resolve();\n",
       "    };\n",
       "  var firstScriptTag = document.getElementsByTagName('script')[0];\n",
       "  firstScriptTag.parentNode.insertBefore(tag, firstScriptTag);\n",
       "});\n",
       "};\n",
       "\n",
       "if(typeof $3Dmolpromise === 'undefined') {\n",
       "$3Dmolpromise = null;\n",
       "  $3Dmolpromise = loadScriptAsync('https://cdnjs.cloudflare.com/ajax/libs/3Dmol/2.1.0/3Dmol-min.js');\n",
       "}\n",
       "\n",
       "var viewer_17258910705798273 = null;\n",
       "var warn = document.getElementById(\"3dmolwarning_17258910705798273\");\n",
       "if(warn) {\n",
       "    warn.parentNode.removeChild(warn);\n",
       "}\n",
       "$3Dmolpromise.then(function() {\n",
       "viewer_17258910705798273 = $3Dmol.createViewer(document.getElementById(\"3dmolviewer_17258910705798273\"),{backgroundColor:\"white\"});\n",
       "viewer_17258910705798273.zoomTo();\n",
       "\tviewer_17258910705798273.addModel(\"@<TRIPOS>MOLECULE\\nRES\\n53 56 1 0 1\\nSMALL\\nNO_CHARGES\\n@<TRIPOS>CRYSIN\\n   22.4813    11.5420     9.8884    90.0000    90.0000    90.0000 1 1\\n@<TRIPOS>ATOM\\n       1 _C0         -3.0156    -0.6734     0.1645 _C0           1 RES     \\n       2 _C0         -1.7400    -1.0735     0.2896 _C0           1 RES     \\n       3 _C0         -1.2626    -2.4016    -0.1545 _C0           1 RES     \\n       4 _C0          0.0277    -2.7144    -0.3390 _C0           1 RES     \\n       5 _C0          1.1443    -1.7506    -0.2389 _C0           1 RES     \\n       6 _C0          2.4110    -2.1703    -0.3095 _C0           1 RES     \\n       7 _C0          3.6022    -1.2916    -0.2311 _C0           1 RES     \\n       8 _N1          4.7851    -1.8251    -0.3089 _N1           1 RES     \\n       9 _C0          5.7320    -0.7822    -0.2027 _C0           1 RES     \\n      10 _C0          5.1260     0.4341    -0.0538 _C0           1 RES     \\n      11 _C2          3.6403     0.2339    -0.0571 _C2           1 RES     \\n      12 _C2          3.0222     0.9806    -1.2528 _C2           1 RES     \\n      13 _C2          3.0545     0.6895     1.2914 _C2           1 RES     \\n      14 _C0          5.8788     1.6065     0.0710 _C0           1 RES     \\n      15 _C0          7.2802     1.5057     0.0400 _C0           1 RES     \\n      16 _C0          7.8990     0.2484    -0.1135 _C0           1 RES     \\n      17 _C0          7.1192    -0.9139    -0.2369 _C0           1 RES     \\n      18 _C2         -3.5422     0.6681     0.6521 _C2           1 RES     \\n      19 _C0         -4.9823     0.5567     0.2269 _C0           1 RES     \\n      20 _C0         -5.2102    -0.6487    -0.4008 _C0           1 RES     \\n      21 _C0         -6.4674    -0.9893    -0.8991 _C0           1 RES     \\n      22 _C0         -7.5168    -0.0694    -0.7447 _C0           1 RES     \\n      23 _C0         -7.2919     1.1639    -0.1027 _C0           1 RES     \\n      24 _C0         -6.0158     1.4855     0.3885 _C0           1 RES     \\n      25 _N1         -4.0429    -1.4435    -0.4683 _N1           1 RES     \\n      26 _C2         -3.4326     0.7933     2.1800 _C2           1 RES     \\n      27 _C2         -2.8515     1.8392    -0.0657 _C2           1 RES     \\n      28 _H3         -1.0463    -0.3995     0.7717 _H3           1 RES     \\n      29 _H3         -1.9850    -3.1924    -0.3054 _H3           1 RES     \\n      30 _H3          0.2590    -3.7390    -0.6083 _H3           1 RES     \\n      31 _H3          0.9261    -0.7063    -0.1349 _H3           1 RES     \\n      32 _H3          2.5990    -3.2318    -0.4277 _H3           1 RES     \\n      33 _H4          3.4427     0.6001    -2.2089 _H4           1 RES     \\n      34 _H4          3.2420     2.0674    -1.1824 _H4           1 RES     \\n      35 _H4          1.9221     0.8686    -1.2874 _H4           1 RES     \\n      36 _H4          1.9554     0.5670     1.3278 _H4           1 RES     \\n      37 _H4          3.4993     0.1057     2.1262 _H4           1 RES     \\n      38 _H4          3.2735     1.7654     1.4617 _H4           1 RES     \\n      39 _H3          5.3972     2.5683     0.1885 _H3           1 RES     \\n      40 _H3          7.8866     2.3971     0.1345 _H3           1 RES     \\n      41 _H3          8.9786     0.1779    -0.1365 _H3           1 RES     \\n      42 _H3          7.5832    -1.8844    -0.3550 _H3           1 RES     \\n      43 _H3         -6.6312    -1.9388    -1.3919 _H3           1 RES     \\n      44 _H3         -8.5027    -0.3090    -1.1214 _H3           1 RES     \\n      45 _H3         -8.1057     1.8680     0.0118 _H3           1 RES     \\n      46 _H3         -5.8389     2.4332     0.8799 _H3           1 RES     \\n      47 _H5         -3.9613    -2.3661    -0.9489 _H5           1 RES     \\n      48 _H4         -3.9143     1.7322     2.5274 _H4           1 RES     \\n      49 _H4         -3.9322    -0.0652     2.6795 _H4           1 RES     \\n      50 _H4         -2.3675     0.8124     2.4944 _H4           1 RES     \\n      51 _H4         -1.7751     1.8834     0.2046 _H4           1 RES     \\n      52 _H4         -2.9335     1.7248    -1.1685 _H4           1 RES     \\n      53 _H4         -3.3218     2.8030     0.2246 _H4           1 RES     \\n@<TRIPOS>BOND\\n       1        1        2 1\\n       2        1       18 1\\n       3        1       25 1\\n       4        2        3 1\\n       5        2       28 1\\n       6        3        4 1\\n       7        3       29 1\\n       8        4        5 1\\n       9        4       30 1\\n      10        5        6 1\\n      11        5       31 1\\n      12        6        7 1\\n      13        6       32 1\\n      14        7        8 1\\n      15        7       11 1\\n      16        8        9 1\\n      17        9       10 1\\n      18        9       17 1\\n      19       10       11 1\\n      20       10       14 1\\n      21       11       12 1\\n      22       11       13 1\\n      23       12       33 1\\n      24       12       34 1\\n      25       12       35 1\\n      26       13       36 1\\n      27       13       37 1\\n      28       13       38 1\\n      29       14       15 1\\n      30       14       39 1\\n      31       15       16 1\\n      32       15       40 1\\n      33       16       17 1\\n      34       16       41 1\\n      35       17       42 1\\n      36       18       19 1\\n      37       18       26 1\\n      38       18       27 1\\n      39       19       20 1\\n      40       19       24 1\\n      41       20       21 1\\n      42       20       25 1\\n      43       21       22 1\\n      44       21       43 1\\n      45       22       23 1\\n      46       22       44 1\\n      47       23       24 1\\n      48       23       45 1\\n      49       24       46 1\\n      50       25       47 1\\n      51       26       48 1\\n      52       26       49 1\\n      53       26       50 1\\n      54       27       51 1\\n      55       27       52 1\\n      56       27       53 1\\n@<TRIPOS>SUBSTRUCTURE\\n       1 RES             1 RESIDUE    0 **** ROOT      0\\n\",\"mol2\");\n",
       "\tviewer_17258910705798273.setStyle({\"stick\": {\"radius\": 0.18, \"color\": \"grey\"}, \"sphere\": {\"scale\": 0.3, \"colorscheme\": {}}});\n",
       "\tviewer_17258910705798273.zoomTo();\n",
       "viewer_17258910705798273.render();\n",
       "});\n",
       "</script>"
      ]
     },
     "metadata": {},
     "output_type": "display_data"
    },
    {
     "data": {
      "text/plain": [
       "<py3Dmol.view at 0x7febdf7a3dd0>"
      ]
     },
     "execution_count": 28,
     "metadata": {},
     "output_type": "execute_result"
    }
   ],
   "source": [
    "cy5.molecules[0].visualize()"
   ]
  },
  {
   "cell_type": "code",
   "execution_count": 29,
   "id": "81dbda18-d513-4be4-a7ce-f9e4bc46fcad",
   "metadata": {},
   "outputs": [],
   "source": [
    "cy5_ff = FF_from_file(forcefield_files=ff_filepath)\n",
    "system=Pack(molecules=cy5,density=0.05,packing_expand_factor=10)"
   ]
  },
  {
   "cell_type": "code",
   "execution_count": 30,
   "id": "bce6b6c9-5af5-43a5-a740-b9282ed6a183",
   "metadata": {
    "scrolled": true
   },
   "outputs": [
    {
     "name": "stdout",
     "output_type": "stream",
     "text": [
      "No charged group detected, skipping electrostatics.\n"
     ]
    }
   ],
   "source": [
    "system.apply_forcefield(\n",
    "    r_cut=2.5, \n",
    "    force_field=cy5_ff, \n",
    "    auto_scale=True, \n",
    "    scale_charges=True,\n",
    "    remove_hydrogens=True, #check this\n",
    "    remove_charges=True) #check this "
   ]
  },
  {
   "cell_type": "code",
   "execution_count": 31,
   "id": "2c09a48c-4316-472f-a5df-0db576a3782c",
   "metadata": {},
   "outputs": [
    {
     "data": {
      "text/plain": [
       "<gsd.hoomd.Frame at 0x7feaf2627810>"
      ]
     },
     "execution_count": 31,
     "metadata": {},
     "output_type": "execute_result"
    }
   ],
   "source": [
    "system.hoomd_snapshot\n",
    "#this snapshot allows us to initialize the simulation in the next step"
   ]
  },
  {
   "cell_type": "code",
   "execution_count": 32,
   "id": "46bcd5ad-633e-4818-b80d-11a28ec8c73d",
   "metadata": {},
   "outputs": [
    {
     "name": "stdout",
     "output_type": "stream",
     "text": [
      "Initializing simulation state from a gsd.hoomd.Frame.\n"
     ]
    }
   ],
   "source": [
    "from flowermd.base import Simulation\n",
    "sim=Simulation.from_system(system=system, gsd_write_freq=100,log_write_freq=100)"
   ]
  },
  {
   "cell_type": "code",
   "execution_count": 33,
   "id": "ba9b40eb-3508-4dc5-8d94-5ad26afbe176",
   "metadata": {},
   "outputs": [
    {
     "data": {
      "text/plain": [
       "[<hoomd.md.pair.pair.LJ at 0x7feae27d8b50>,\n",
       " <hoomd.md.special_pair.LJ at 0x7feaf2e750d0>,\n",
       " <hoomd.md.bond.Harmonic at 0x7feaf2fed3d0>,\n",
       " <hoomd.md.angle.Harmonic at 0x7feaf2fef050>,\n",
       " <hoomd.md.dihedral.Periodic at 0x7feaf2ddc210>,\n",
       " <hoomd.md.dihedral.Periodic at 0x7feaf2692d50>,\n",
       " <hoomd.md.dihedral.Periodic at 0x7febdf7876d0>,\n",
       " <hoomd.md.dihedral.Periodic at 0x7feaf2ffdbd0>]"
      ]
     },
     "execution_count": 33,
     "metadata": {},
     "output_type": "execute_result"
    }
   ],
   "source": [
    "hoomd_forces = system.hoomd_forcefield\n",
    "hoomd_forces"
   ]
  },
  {
   "cell_type": "code",
   "execution_count": 34,
   "id": "88c4b9bf-17a8-4416-be53-be9425396ed5",
   "metadata": {
    "scrolled": true
   },
   "outputs": [
    {
     "data": {
      "text/plain": [
       "{'C0-C0-C2': _HOOMDDict{'t0': 2.1914687156677246, 'k': 882.8766661254487},\n",
       " 'C0-C0-N1': _HOOMDDict{'t0': 2.3564724922180176, 'k': 602.5562148446506},\n",
       " 'C2-C0-N1': _HOOMDDict{'t0': 2.233898878097534, 'k': 708.7293160261336},\n",
       " 'C0-C0-C0': _HOOMDDict{'t0': 2.2176170349121094, 'k': 700.3515285450342},\n",
       " 'C0-N1-C0': _HOOMDDict{'t0': 2.0452728271484375, 'k': 1224.1681393221738},\n",
       " 'C0-C2-C0': _HOOMDDict{'t0': 1.9567296504974365, 'k': 1154.2032283984497},\n",
       " 'C0-C2-C2': _HOOMDDict{'t0': 2.0078423023223877, 'k': 711.8165707213218},\n",
       " 'C2-C2-C2': _HOOMDDict{'t0': 1.9695239067077637, 'k': 801.2945416917091}}"
      ]
     },
     "execution_count": 34,
     "metadata": {},
     "output_type": "execute_result"
    }
   ],
   "source": [
    "\n",
    "lj_force = hoomd_forces[3]\n",
    "\n",
    "dict(lj_force.params)\n",
    "#here we see the parameters of the force field t0 and k"
   ]
  },
  {
   "cell_type": "code",
   "execution_count": 35,
   "id": "09e60d20-a0ef-4241-9a06-02f8c8f17aa3",
   "metadata": {},
   "outputs": [
    {
     "name": "stdout",
     "output_type": "stream",
     "text": [
      "[2.86620471e-07 2.86620471e-07 2.86620471e-07] cm\n"
     ]
    }
   ],
   "source": [
    "from flowermd.utils import get_target_box_mass_density\n",
    "\n",
    "target_box = get_target_box_mass_density(density=system.density, mass=system.mass.to(\"g\"))\n",
    "print(target_box)"
   ]
  },
  {
   "cell_type": "code",
   "execution_count": 36,
   "id": "5c082dcd-c0f5-485c-976a-7966c1cf935d",
   "metadata": {},
   "outputs": [
    {
     "data": {
      "text/plain": [
       "unyt_quantity(5.0000008e-05, 'g/cm**3')"
      ]
     },
     "execution_count": 36,
     "metadata": {},
     "output_type": "execute_result"
    }
   ],
   "source": [
    "sim.density.to(\"g/cm**3\")"
   ]
  },
  {
   "cell_type": "code",
   "execution_count": 37,
   "id": "0842aa53-8dba-4818-82d1-31f2d72eded5",
   "metadata": {},
   "outputs": [
    {
     "name": "stdout",
     "output_type": "stream",
     "text": [
      "Step 100 of 1000; TPS: 258.13; ETA: 0.1 minutes\n",
      "Step 200 of 1000; TPS: 493.05; ETA: 0.0 minutes\n",
      "Step 300 of 1000; TPS: 724.19; ETA: 0.0 minutes\n",
      "Step 400 of 1000; TPS: 940.77; ETA: 0.0 minutes\n",
      "Step 500 of 1000; TPS: 1149.07; ETA: 0.0 minutes\n",
      "Step 600 of 1000; TPS: 1336.26; ETA: 0.0 minutes\n",
      "Step 700 of 1000; TPS: 1533.42; ETA: 0.0 minutes\n",
      "Step 800 of 1000; TPS: 1725.1; ETA: 0.0 minutes\n",
      "Step 900 of 1000; TPS: 1910.85; ETA: 0.0 minutes\n",
      "Step 1000 of 1000; TPS: 2086.46; ETA: 0.0 minutes\n"
     ]
    }
   ],
   "source": [
    "sim.run_update_volume(n_steps=1000, period=1, kT=1, tau_kt=1, final_box_lengths= target_box)"
   ]
  },
  {
   "cell_type": "code",
   "execution_count": 38,
   "id": "1ac6473f-c1c2-404e-9c6c-46c5f7f59532",
   "metadata": {},
   "outputs": [
    {
     "data": {
      "text/plain": [
       "unyt_quantity(0.05, 'g/cm**3')"
      ]
     },
     "execution_count": 38,
     "metadata": {},
     "output_type": "execute_result"
    }
   ],
   "source": [
    "sim.density.to(\"g/cm**3\")"
   ]
  },
  {
   "cell_type": "code",
   "execution_count": 39,
   "id": "62e47d69-2208-45d6-a22d-b5a93b4c1b0c",
   "metadata": {},
   "outputs": [],
   "source": [
    "\n",
    "import hoomd\n",
    "for writer in sim.operations.writers:\n",
    "    if isinstance(writer, hoomd.write.GSD):\n",
    "        writer.flush()"
   ]
  },
  {
   "cell_type": "code",
   "execution_count": 40,
   "id": "4e357829-d7d6-4f97-a6a3-115ce76cf62b",
   "metadata": {},
   "outputs": [
    {
     "data": {
      "image/png": "[encoded data removed]",
      "text/plain": [
       "<fresnel.util.ImageArray at 0x7feafb203dd0>"
      ]
     },
     "execution_count": 40,
     "metadata": {},
     "output_type": "execute_result"
    }
   ],
   "source": [
    "\n",
    "from cmeutils.visualize import FresnelGSD\n",
    "\n",
    "sim_visualizer = FresnelGSD(gsd_file=\"trajectory.gsd\", frame=0, view_axis=(1, 1, 1))\n",
    "sim_visualizer.view()\n",
    "                         "
   ]
  },
  {
   "cell_type": "code",
   "execution_count": 20,
   "id": "abb4d66e-b458-4e7a-a798-efbaeeb4b13d",
   "metadata": {},
   "outputs": [
    {
     "data": {
      "image/png": "[encoded data removed]",
      "text/plain": [
       "<fresnel.util.ImageArray at 0x7feaf2a7df10>"
      ]
     },
     "execution_count": 20,
     "metadata": {},
     "output_type": "execute_result"
    }
   ],
   "source": [
    "sim_visualizer.frame = -1\n",
    "sim_visualizer.view()"
   ]
  },
  {
   "cell_type": "code",
   "execution_count": 21,
   "id": "14bad4fb-0576-4fbd-86f5-287b2c757d8c",
   "metadata": {},
   "outputs": [
    {
     "name": "stdout",
     "output_type": "stream",
     "text": [
      "Step 99 of 2000; TPS: 8898.08; ETA: 0.0 minutes\n",
      "Step 199 of 2000; TPS: 8600.2; ETA: 0.0 minutes\n",
      "Step 299 of 2000; TPS: 7923.89; ETA: 0.0 minutes\n",
      "Step 399 of 2000; TPS: 8436.94; ETA: 0.0 minutes\n",
      "Step 499 of 2000; TPS: 8906.9; ETA: 0.0 minutes\n",
      "Step 599 of 2000; TPS: 9497.38; ETA: 0.0 minutes\n",
      "Step 699 of 2000; TPS: 9663.1; ETA: 0.0 minutes\n",
      "Step 799 of 2000; TPS: 10036.05; ETA: 0.0 minutes\n",
      "Step 899 of 2000; TPS: 10213.24; ETA: 0.0 minutes\n",
      "Step 999 of 2000; TPS: 10482.58; ETA: 0.0 minutes\n",
      "Step 1099 of 2000; TPS: 10712.65; ETA: 0.0 minutes\n",
      "Step 1199 of 2000; TPS: 10939.58; ETA: 0.0 minutes\n",
      "Step 1299 of 2000; TPS: 11079.65; ETA: 0.0 minutes\n",
      "Step 1399 of 2000; TPS: 11249.06; ETA: 0.0 minutes\n",
      "Step 1499 of 2000; TPS: 11376.4; ETA: 0.0 minutes\n",
      "Step 1599 of 2000; TPS: 11477.67; ETA: 0.0 minutes\n",
      "Step 1699 of 2000; TPS: 11539.85; ETA: 0.0 minutes\n",
      "Step 1799 of 2000; TPS: 11564.89; ETA: 0.0 minutes\n",
      "Step 1899 of 2000; TPS: 11587.39; ETA: 0.0 minutes\n",
      "Step 1999 of 2000; TPS: 11614.93; ETA: 0.0 minutes\n"
     ]
    }
   ],
   "source": [
    "sim.run_NVT(n_steps=2000, kT=0.5, tau_kt=0.01)"
   ]
  },
  {
   "cell_type": "code",
   "execution_count": 22,
   "id": "f281d977-e4f6-4fbf-a19e-f0b5ba6ece91",
   "metadata": {},
   "outputs": [],
   "source": [
    "\n",
    "for writer in sim.operations.writers:\n",
    "    if isinstance(writer, hoomd.write.GSD):\n",
    "        writer.flush()"
   ]
  },
  {
   "cell_type": "code",
   "execution_count": 23,
   "id": "abbaec1f-151a-495a-b6a0-460732cd2b78",
   "metadata": {},
   "outputs": [
    {
     "data": {
      "image/png": "[encoded data removed]",
      "text/plain": [
       "<fresnel.util.ImageArray at 0x7feaf2631250>"
      ]
     },
     "execution_count": 23,
     "metadata": {},
     "output_type": "execute_result"
    }
   ],
   "source": [
    "\n",
    "sim_visualizer.frame=-1\n",
    "sim_visualizer.view()"
   ]
  },
  {
   "cell_type": "code",
   "execution_count": null,
   "id": "b676e20c-189d-4f75-be55-a6dc1eec0fb9",
   "metadata": {},
   "outputs": [],
   "source": []
  },
  {
   "cell_type": "code",
   "execution_count": null,
   "id": "b896fb70-47de-4060-8005-356cdb7c194a",
   "metadata": {},
   "outputs": [],
   "source": []
  }
 ],
 "metadata": {
  "kernelspec": {
   "display_name": "Python 3 (ipykernel)",
   "language": "python",
   "name": "python3"
  },
  "language_info": {
   "codemirror_mode": {
    "name": "ipython",
    "version": 3
   },
   "file_extension": ".py",
   "mimetype": "text/x-python",
   "name": "python",
   "nbconvert_exporter": "python",
   "pygments_lexer": "ipython3",
   "version": "3.11.0"
  }
 },
 "nbformat": 4,
 "nbformat_minor": 5
}
